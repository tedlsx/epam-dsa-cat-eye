{
 "cells": [
  {
   "cell_type": "code",
   "execution_count": null,
   "metadata": {},
   "outputs": [],
   "source": [
    "import pandas as pd\n",
    "\n",
    "df = pd.read_csv(\"PHILIPPINES_BEVERAGE_PURCHASE_HHP_CLEANED.csv\", encoding=\"utf-16\")\n",
    "\n",
    "df[\"1W Rolling Week End\"] = pd.to_datetime(df[\"1W Rolling Week End\"])\n",
    "\n",
    "timedelta = pd.to_timedelta((7 - df[\"weekday\"] + 1).replace({7:0}), unit=\"day\")\n",
    "\n",
    "df[\"Date\"] = df[\"1W Rolling Week End\"] + timedelta\n",
    "\n",
    "df[\"Year\"] = df[\"Date\"].dt.year\n",
    "df[\"Month\"] = df[\"Date\"].dt.month"
   ]
  }
 ],
 "metadata": {
  "kernelspec": {
   "display_name": "Python 3",
   "language": "python",
   "name": "python3"
  },
  "language_info": {
   "codemirror_mode": {
    "name": "ipython",
    "version": 3
   },
   "file_extension": ".py",
   "mimetype": "text/x-python",
   "name": "python",
   "nbconvert_exporter": "python",
   "pygments_lexer": "ipython3",
   "version": "3.7.3"
  }
 },
 "nbformat": 4,
 "nbformat_minor": 2
}
