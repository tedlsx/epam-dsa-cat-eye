{
 "cells": [
  {
   "cell_type": "code",
   "execution_count": null,
   "metadata": {},
   "outputs": [],
   "source": [
    "import pandas as pd\n",
    "\n",
    "df = pd.read_csv(\"PHILIPPINES_BEVERAGE_PURCHASE_HHP_CLEANED.csv\", encoding=\"utf-16\")"
   ]
  },
  {
   "cell_type": "markdown",
   "metadata": {},
   "source": [
    "### Add product id"
   ]
  },
  {
   "cell_type": "code",
   "execution_count": null,
   "metadata": {},
   "outputs": [],
   "source": [
    "from sklearn import preprocessing\n",
    "\n",
    "enc = preprocessing.LabelEncoder()\n",
    "prod_info = df[\"SKU_DESC\"]\n",
    "enc.fit(prod_info)\n",
    "prod_id = enc.transform(prod_info)"
   ]
  },
  {
   "cell_type": "markdown",
   "metadata": {},
   "source": [
    "### Extract data about household:"
   ]
  },
  {
   "cell_type": "code",
   "execution_count": null,
   "metadata": {},
   "outputs": [],
   "source": [
    "dfhouse = df.loc[:,[\"house\", \"CW_1Y\",\n",
    "         \"CW_2Y\", \"DEMOG_REGION\", \"DEMOG_HHSIZE\", \"DEMOG_HHSEC\", \"DEMOG_HWAGE\", \"DEMOG_KIDS\", \"DEMOG_WORKINGSTATUS\", \"DEMOG_STRATA\",\n",
    "         \"DEMOG_LIFESTAGE\", \"trade\"]]\n",
    "\n",
    "dfhouse = dfhouse.drop_duplicates()\n",
    "\n",
    "dfhouse.reset_index(drop=True, inplace=True)"
   ]
  }
 ],
 "metadata": {
  "kernelspec": {
   "display_name": "Python 3",
   "language": "python",
   "name": "python3"
  },
  "language_info": {
   "codemirror_mode": {
    "name": "ipython",
    "version": 3
   },
   "file_extension": ".py",
   "mimetype": "text/x-python",
   "name": "python",
   "nbconvert_exporter": "python",
   "pygments_lexer": "ipython3",
   "version": "3.7.3"
  }
 },
 "nbformat": 4,
 "nbformat_minor": 2
}
